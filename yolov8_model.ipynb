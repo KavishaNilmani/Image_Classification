{
 "cells": [
  {
   "cell_type": "code",
   "execution_count": null,
   "id": "8e461dda",
   "metadata": {},
   "outputs": [],
   "source": [
    "%pip install ultralytics"
   ]
  },
  {
   "cell_type": "code",
   "execution_count": null,
   "id": "128769d5",
   "metadata": {},
   "outputs": [],
   "source": [
    "from ultralytics import YOLO"
   ]
  },
  {
   "cell_type": "code",
   "execution_count": null,
   "id": "2aa011e7",
   "metadata": {},
   "outputs": [],
   "source": [
    "# Load a classification model (yolov8s-cls.pt is the small version)\n",
    "model = YOLO(r'D:\\OneDrive - Lowcode Minds Technology Pvt Ltd\\Desktop\\image_classifier_site\\model\\yolov8s-cls.pt')"
   ]
  },
  {
   "cell_type": "code",
   "execution_count": null,
   "id": "76363735",
   "metadata": {},
   "outputs": [],
   "source": [
    "# Train on your dataset (replace 'dataset' with your dataset path if needed)\n",
    "model.train(\n",
    "    data='dataset',      # Folder with train/ and val/ inside\n",
    "    epochs=10,           # Number of training epochs\n",
    "    imgsz=224,           # Resize images to 224x224\n",
    "    project='runs/classify',\n",
    "    name='yolov8s-classifier',\n",
    "    verbose=True\n",
    ")"
   ]
  },
  {
   "cell_type": "code",
   "execution_count": null,
   "id": "f5c0ccc3",
   "metadata": {},
   "outputs": [],
   "source": [
    "metrics = model.val()\n",
    "print(\"Validation Results:\", metrics)"
   ]
  },
  {
   "cell_type": "code",
   "execution_count": null,
   "id": "9342748b",
   "metadata": {},
   "outputs": [],
   "source": [
    "results = model.predict(\n",
    "    source=r'D:\\OneDrive - Lowcode Minds Technology Pvt Ltd\\Desktop\\image_classifier_site\\dataset\\val\\birds',   # Path to validation folder (or a single image)\n",
    "    save=True               # Save output images with predictions\n",
    ")"
   ]
  },
  {
   "cell_type": "code",
   "execution_count": null,
   "id": "a50ba276",
   "metadata": {},
   "outputs": [],
   "source": [
    "results = model.predict(\n",
    "    source=r'D:\\OneDrive - Lowcode Minds Technology Pvt Ltd\\Desktop\\image_classifier_site\\dataset\\val\\fish',   # Path to validation folder (or a single image)\n",
    "    save=True               # Save output images with predictions\n",
    ")"
   ]
  },
  {
   "cell_type": "code",
   "execution_count": null,
   "id": "12c10a60",
   "metadata": {},
   "outputs": [],
   "source": [
    "results = model.predict(\n",
    "    source=r'D:\\OneDrive - Lowcode Minds Technology Pvt Ltd\\Desktop\\image_classifier_site\\dataset\\val\\mammal',   # Path to validation folder (or a single image)\n",
    "    save=True               # Save output images with predictions\n",
    ")"
   ]
  },
  {
   "cell_type": "code",
   "execution_count": null,
   "id": "237bfb68",
   "metadata": {},
   "outputs": [],
   "source": [
    "results = model.predict(\n",
    "    source=r'D:\\OneDrive - Lowcode Minds Technology Pvt Ltd\\Desktop\\image_classifier_site\\dataset\\val\\plant',   # Path to validation folder (or a single image)\n",
    "    save=True               # Save output images with predictions\n",
    ")"
   ]
  },
  {
   "cell_type": "code",
   "execution_count": null,
   "id": "4a08a394",
   "metadata": {},
   "outputs": [],
   "source": [
    "results = model.predict(\n",
    "    source=r'D:\\OneDrive - Lowcode Minds Technology Pvt Ltd\\Desktop\\image_classifier_site\\dataset\\val\\other',   # Path to validation folder (or a single image)\n",
    "    save=True               # Save output images with predictions\n",
    ")"
   ]
  },
  {
   "cell_type": "code",
   "execution_count": null,
   "id": "1dae8fe1",
   "metadata": {},
   "outputs": [],
   "source": [
    "results = model.predict(source=r'D:\\OneDrive - Lowcode Minds Technology Pvt Ltd\\Desktop\\image_classifier_site\\test_images\\b.jpg', save=True)\n",
    "print(\"Prediction Results:\", results)"
   ]
  },
  {
   "cell_type": "code",
   "execution_count": null,
   "id": "494992e5",
   "metadata": {},
   "outputs": [],
   "source": [
    "results = model.predict(source=r'D:\\OneDrive - Lowcode Minds Technology Pvt Ltd\\Desktop\\image_classifier_site\\test_images\\ant.jpg', save=True)\n",
    "print(\"Prediction Results:\", results)"
   ]
  },
  {
   "cell_type": "code",
   "execution_count": null,
   "id": "9747f143",
   "metadata": {},
   "outputs": [],
   "source": [
    "import pandas as pd\n",
    "import matplotlib.pyplot as plt\n",
    "import seaborn as sns\n",
    "import os"
   ]
  },
  {
   "cell_type": "code",
   "execution_count": null,
   "id": "ce680be4",
   "metadata": {},
   "outputs": [],
   "source": [
    "# Example path — update if different\n",
    "csv_path = r\"D:\\OneDrive - Lowcode Minds Technology Pvt Ltd\\Desktop\\image_classifier_site\\runs\\classify\\yolov8s-classifier9\\results.csv\"\n",
    "\n",
    "# Read the CSV file\n",
    "df = pd.read_csv(csv_path)\n",
    "print(df.head())\n"
   ]
  },
  {
   "cell_type": "code",
   "execution_count": null,
   "id": "fcb110ea",
   "metadata": {},
   "outputs": [],
   "source": [
    "%matplotlib inline"
   ]
  },
  {
   "cell_type": "code",
   "execution_count": null,
   "id": "342c1a9c",
   "metadata": {},
   "outputs": [],
   "source": [
    "# Use seaborn style\n",
    "sns.set(style=\"whitegrid\")\n",
    "\n",
    "# Load YOLOv8 training logs\n",
    "df = pd.read_csv(\"runs/classify/yolov8s-classifier9/results.csv\")\n",
    "\n",
    "# --- LOSS PLOT: Train vs Val ---\n",
    "plt.figure(figsize=(10, 5))\n",
    "plt.plot(df['epoch'], df['train/loss'], label='Train Loss', marker='o')\n",
    "plt.plot(df['epoch'], df['val/loss'], label='Validation Loss', marker='x')\n",
    "plt.xlabel('Epoch')\n",
    "plt.ylabel('Loss')\n",
    "plt.title('Train vs Validation Loss')\n",
    "plt.legend()\n",
    "plt.tight_layout()\n",
    "plt.show(block=True)\n",
    "\n",
    "# --- ACCURACY PLOT: Val Top-1 vs Top-5 ---\n",
    "plt.figure(figsize=(10, 5))\n",
    "plt.plot(df['epoch'], df['metrics/accuracy_top1'], label='Validation Top-1 Accuracy', marker='o')\n",
    "plt.plot(df['epoch'], df['metrics/accuracy_top5'], label='Validation Top-5 Accuracy', marker='x')\n",
    "plt.xlabel('Epoch')\n",
    "plt.ylabel('Accuracy')\n",
    "plt.title('Validation Accuracy over Epochs')\n",
    "plt.legend()\n",
    "plt.tight_layout()\n",
    "plt.show(block=True)\n"
   ]
  },
  {
   "cell_type": "code",
   "execution_count": null,
   "id": "a2674371",
   "metadata": {},
   "outputs": [],
   "source": []
  }
 ],
 "metadata": {
  "kernelspec": {
   "display_name": "venv",
   "language": "python",
   "name": "python3"
  },
  "language_info": {
   "codemirror_mode": {
    "name": "ipython",
    "version": 3
   },
   "file_extension": ".py",
   "mimetype": "text/x-python",
   "name": "python",
   "nbconvert_exporter": "python",
   "pygments_lexer": "ipython3",
   "version": "3.11.0"
  }
 },
 "nbformat": 4,
 "nbformat_minor": 5
}
