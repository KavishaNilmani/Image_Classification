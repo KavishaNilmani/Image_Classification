{
 "cells": [
  {
   "cell_type": "code",
   "execution_count": 45,
   "id": "fec793b5",
   "metadata": {},
   "outputs": [
    {
     "name": "stdout",
     "output_type": "stream",
     "text": [
      "Note: you may need to restart the kernel to use updated packages.\n"
     ]
    },
    {
     "name": "stderr",
     "output_type": "stream",
     "text": [
      "\n",
      "[notice] A new release of pip available: 22.3 -> 25.1.1\n",
      "[notice] To update, run: python.exe -m pip install --upgrade pip\n"
     ]
    }
   ],
   "source": [
    "%pip install -q IPython"
   ]
  },
  {
   "cell_type": "code",
   "execution_count": 46,
   "id": "13917d0a",
   "metadata": {},
   "outputs": [
    {
     "name": "stdout",
     "output_type": "stream",
     "text": [
      "[WinError 2] The system cannot find the file specified: 'yolov5'\n",
      "d:\\OneDrive - Lowcode Minds Technology Pvt Ltd\\Desktop\\image_classifier_site\n"
     ]
    },
    {
     "name": "stderr",
     "output_type": "stream",
     "text": [
      "fatal: Too many arguments.\n",
      "\n",
      "usage: git clone [<options>] [--] <repo> [<dir>]\n",
      "\n",
      "    -v, --[no-]verbose    be more verbose\n",
      "    -q, --[no-]quiet      be more quiet\n",
      "    --[no-]progress       force progress reporting\n",
      "    --[no-]reject-shallow don't clone shallow repository\n",
      "    -n, --no-checkout     don't create a checkout\n",
      "    --checkout            opposite of --no-checkout\n",
      "    --[no-]bare           create a bare repository\n",
      "    --[no-]mirror         create a mirror repository (implies --bare)\n",
      "    -l, --[no-]local      to clone from a local repository\n",
      "    --no-hardlinks        don't use local hardlinks, always copy\n",
      "    --hardlinks           opposite of --no-hardlinks\n",
      "    -s, --[no-]shared     setup as shared repository\n",
      "    --[no-]recurse-submodules[=<pathspec>]\n",
      "                          initialize submodules in the clone\n",
      "    --[no-]recursive ...  alias of --recurse-submodules\n",
      "    -j, --[no-]jobs <n>   number of submodules cloned in parallel\n",
      "    --[no-]template <template-directory>\n",
      "                          directory from which templates will be used\n",
      "    --[no-]reference <repo>\n",
      "                          reference repository\n",
      "    --[no-]reference-if-able <repo>\n",
      "                          reference repository\n",
      "    --[no-]dissociate     use --reference only while cloning\n",
      "    -o, --[no-]origin <name>\n",
      "                          use <name> instead of 'origin' to track upstream\n",
      "    -b, --[no-]branch <branch>\n",
      "                          checkout <branch> instead of the remote's HEAD\n",
      "    -u, --[no-]upload-pack <path>\n",
      "                          path to git-upload-pack on the remote\n",
      "    --[no-]depth <depth>  create a shallow clone of that depth\n",
      "    --[no-]shallow-since <time>\n",
      "                          create a shallow clone since a specific time\n",
      "    --[no-]shallow-exclude <revision>\n",
      "                          deepen history of shallow clone, excluding rev\n",
      "    --[no-]single-branch  clone only one branch, HEAD or --branch\n",
      "    --no-tags             don't clone any tags, and make later fetches not to follow them\n",
      "    --tags                opposite of --no-tags\n",
      "    --[no-]shallow-submodules\n",
      "                          any cloned submodules will be shallow\n",
      "    --[no-]separate-git-dir <gitdir>\n",
      "                          separate git dir from working tree\n",
      "    --[no-]ref-format <format>\n",
      "                          specify the reference format to use\n",
      "    -c, --[no-]config <key=value>\n",
      "                          set config inside the new repository\n",
      "    --[no-]server-option <server-specific>\n",
      "                          option to transmit\n",
      "    -4, --ipv4            use IPv4 addresses only\n",
      "    -6, --ipv6            use IPv6 addresses only\n",
      "    --[no-]filter <args>  object filtering\n",
      "    --[no-]also-filter-submodules\n",
      "                          apply partial clone filters to submodules\n",
      "    --[no-]remote-submodules\n",
      "                          any cloned submodules will use their remote-tracking branch\n",
      "    --[no-]sparse         initialize sparse-checkout file to include only files at root\n",
      "    --[no-]bundle-uri <uri>\n",
      "                          a URI for downloading bundles before fetching from origin remote\n",
      "\n"
     ]
    },
    {
     "name": "stdout",
     "output_type": "stream",
     "text": [
      "Note: you may need to restart the kernel to use updated packages.\n"
     ]
    },
    {
     "name": "stderr",
     "output_type": "stream",
     "text": [
      "ERROR: Invalid requirement: '#'\n",
      "\n",
      "[notice] A new release of pip available: 22.3 -> 25.1.1\n",
      "[notice] To update, run: python.exe -m pip install --upgrade pip\n"
     ]
    },
    {
     "name": "stdout",
     "output_type": "stream",
     "text": [
      "Note: you may need to restart the kernel to use updated packages.\n",
      "Setup complete. Using torch 2.7.1+cpu (CPU)\n"
     ]
    },
    {
     "name": "stderr",
     "output_type": "stream",
     "text": [
      "\n",
      "[notice] A new release of pip available: 22.3 -> 25.1.1\n",
      "[notice] To update, run: python.exe -m pip install --upgrade pip\n"
     ]
    }
   ],
   "source": [
    "# Clone YOLOv5 and install dependencies\n",
    "!git clone https://github.com/ultralytics/yolov5  # clone repo\n",
    "%cd yolov5\n",
    "%pip install -qr requirements.txt # install dependencies\n",
    "%pip install -q roboflow\n",
    "\n",
    "import torch\n",
    "import os\n",
    "from IPython.display import Image, clear_output  # to display images\n",
    "\n",
    "print(f\"Setup complete. Using torch {torch.__version__} ({torch.cuda.get_device_properties(0).name if torch.cuda.is_available() else 'CPU'})\")"
   ]
  },
  {
   "cell_type": "code",
   "execution_count": 47,
   "id": "1e027f91",
   "metadata": {},
   "outputs": [],
   "source": [
    "dataset_path = r\"D:\\OneDrive - Lowcode Minds Technology Pvt Ltd\\Desktop\\image_classifier_site\\dataset\\train\"\n",
    "os.environ[\"DATASET_DIRECTORY\"] = dataset_path"
   ]
  },
  {
   "cell_type": "code",
   "execution_count": 48,
   "id": "bf8247e3",
   "metadata": {},
   "outputs": [
    {
     "name": "stderr",
     "output_type": "stream",
     "text": [
      "D:\\OneDrive - Lowcode Minds Technology Pvt Ltd\\Desktop\\image_classifier_site\\yolov5\\utils\\general.py:32: UserWarning: pkg_resources is deprecated as an API. See https://setuptools.pypa.io/en/latest/pkg_resources.html. The pkg_resources package is slated for removal as early as 2025-11-30. Refrain from using this package or pin to Setuptools<81.\n",
      "  import pkg_resources as pkg\n",
      "\u001b[34m\u001b[1mtrain: \u001b[0mweights=yolov5s.pt, cfg=, data=D:/OneDrive - Lowcode Minds Technology Pvt Ltd/Desktop/image_classifier_site/dataset/dataset.yaml, hyp=data\\hyps\\hyp.scratch-low.yaml, epochs=1, batch_size=16, imgsz=640, rect=False, resume=False, nosave=False, noval=False, noautoanchor=False, noplots=False, evolve=None, evolve_population=data\\hyps, resume_evolve=None, bucket=, cache=ram, image_weights=False, device=, multi_scale=False, single_cls=True, optimizer=SGD, sync_bn=False, workers=8, project=runs\\train, name=exp, exist_ok=False, quad=False, cos_lr=False, label_smoothing=0.0, patience=100, freeze=[0], save_period=-1, seed=0, local_rank=-1, entity=None, upload_dataset=False, bbox_interval=-1, artifact_alias=latest, ndjson_console=False, ndjson_file=False\n",
      "\u001b[34m\u001b[1mgithub: \u001b[0mup to date with https://github.com/ultralytics/yolov5 \n",
      "fatal: cannot change to 'D:\\OneDrive': No such file or directory\n",
      "YOLOv5  2025-6-25 Python-3.11.0 torch-2.7.1+cpu CPU\n",
      "\n",
      "\u001b[34m\u001b[1mhyperparameters: \u001b[0mlr0=0.01, lrf=0.01, momentum=0.937, weight_decay=0.0005, warmup_epochs=3.0, warmup_momentum=0.8, warmup_bias_lr=0.1, box=0.05, cls=0.5, cls_pw=1.0, obj=1.0, obj_pw=1.0, iou_t=0.2, anchor_t=4.0, fl_gamma=0.0, hsv_h=0.015, hsv_s=0.7, hsv_v=0.4, degrees=0.0, translate=0.1, scale=0.5, shear=0.0, perspective=0.0, flipud=0.0, fliplr=0.5, mosaic=1.0, mixup=0.0, copy_paste=0.0\n",
      "\u001b[34m\u001b[1mComet: \u001b[0mrun 'pip install comet_ml' to automatically track and visualize YOLOv5  runs in Comet\n",
      "\u001b[34m\u001b[1mTensorBoard: \u001b[0mStart with 'tensorboard --logdir runs\\train', view at http://localhost:6006/\n",
      "Overriding model.yaml nc=80 with nc=1\n",
      "\n",
      "                 from  n    params  module                                  arguments                     \n",
      "  0                -1  1      3520  models.common.Conv                      [3, 32, 6, 2, 2]              \n",
      "  1                -1  1     18560  models.common.Conv                      [32, 64, 3, 2]                \n",
      "  2                -1  1     18816  models.common.C3                        [64, 64, 1]                   \n",
      "  3                -1  1     73984  models.common.Conv                      [64, 128, 3, 2]               \n",
      "  4                -1  2    115712  models.common.C3                        [128, 128, 2]                 \n",
      "  5                -1  1    295424  models.common.Conv                      [128, 256, 3, 2]              \n",
      "  6                -1  3    625152  models.common.C3                        [256, 256, 3]                 \n",
      "  7                -1  1   1180672  models.common.Conv                      [256, 512, 3, 2]              \n",
      "  8                -1  1   1182720  models.common.C3                        [512, 512, 1]                 \n",
      "  9                -1  1    656896  models.common.SPPF                      [512, 512, 5]                 \n",
      " 10                -1  1    131584  models.common.Conv                      [512, 256, 1, 1]              \n",
      " 11                -1  1         0  torch.nn.modules.upsampling.Upsample    [None, 2, 'nearest']          \n",
      " 12           [-1, 6]  1         0  models.common.Concat                    [1]                           \n",
      " 13                -1  1    361984  models.common.C3                        [512, 256, 1, False]          \n",
      " 14                -1  1     33024  models.common.Conv                      [256, 128, 1, 1]              \n",
      " 15                -1  1         0  torch.nn.modules.upsampling.Upsample    [None, 2, 'nearest']          \n",
      " 16           [-1, 4]  1         0  models.common.Concat                    [1]                           \n",
      " 17                -1  1     90880  models.common.C3                        [256, 128, 1, False]          \n",
      " 18                -1  1    147712  models.common.Conv                      [128, 128, 3, 2]              \n",
      " 19          [-1, 14]  1         0  models.common.Concat                    [1]                           \n",
      " 20                -1  1    296448  models.common.C3                        [256, 256, 1, False]          \n",
      " 21                -1  1    590336  models.common.Conv                      [256, 256, 3, 2]              \n",
      " 22          [-1, 10]  1         0  models.common.Concat                    [1]                           \n",
      " 23                -1  1   1182720  models.common.C3                        [512, 512, 1, False]          \n",
      " 24      [17, 20, 23]  1     16182  models.yolo.Detect                      [1, [[10, 13, 16, 30, 33, 23], [30, 61, 62, 45, 59, 119], [116, 90, 156, 198, 373, 326]], [128, 256, 512]]\n",
      "Model summary: 214 layers, 7022326 parameters, 7022326 gradients, 15.9 GFLOPs\n",
      "\n",
      "Transferred 343/349 items from yolov5s.pt\n",
      "\u001b[34m\u001b[1moptimizer:\u001b[0m SGD(lr=0.01) with parameter groups 57 weight(decay=0.0), 60 weight(decay=0.0005), 60 bias\n",
      "\n",
      "\u001b[34m\u001b[1mtrain: \u001b[0mScanning D:\\OneDrive - Lowcode Minds Technology Pvt Ltd\\Desktop\\image_classifier_site\\dataset\\train\\birds...:   0%|          | 0/5310 [00:00<?, ?it/s]D:\\OneDrive - Lowcode Minds Technology Pvt Ltd\\Desktop\\image_classifier_site\\yolov5\\utils\\general.py:32: UserWarning: pkg_resources is deprecated as an API. See https://setuptools.pypa.io/en/latest/pkg_resources.html. The pkg_resources package is slated for removal as early as 2025-11-30. Refrain from using this package or pin to Setuptools<81.\n",
      "  import pkg_resources as pkg\n",
      "D:\\OneDrive - Lowcode Minds Technology Pvt Ltd\\Desktop\\image_classifier_site\\yolov5\\utils\\general.py:32: UserWarning: pkg_resources is deprecated as an API. See https://setuptools.pypa.io/en/latest/pkg_resources.html. The pkg_resources package is slated for removal as early as 2025-11-30. Refrain from using this package or pin to Setuptools<81.\n",
      "  import pkg_resources as pkg\n",
      "D:\\OneDrive - Lowcode Minds Technology Pvt Ltd\\Desktop\\image_classifier_site\\yolov5\\utils\\general.py:32: UserWarning: pkg_resources is deprecated as an API. See https://setuptools.pypa.io/en/latest/pkg_resources.html. The pkg_resources package is slated for removal as early as 2025-11-30. Refrain from using this package or pin to Setuptools<81.\n",
      "  import pkg_resources as pkg\n",
      "D:\\OneDrive - Lowcode Minds Technology Pvt Ltd\\Desktop\\image_classifier_site\\yolov5\\utils\\general.py:32: UserWarning: pkg_resources is deprecated as an API. See https://setuptools.pypa.io/en/latest/pkg_resources.html. The pkg_resources package is slated for removal as early as 2025-11-30. Refrain from using this package or pin to Setuptools<81.\n",
      "  import pkg_resources as pkg\n",
      "D:\\OneDrive - Lowcode Minds Technology Pvt Ltd\\Desktop\\image_classifier_site\\yolov5\\utils\\general.py:32: UserWarning: pkg_resources is deprecated as an API. See https://setuptools.pypa.io/en/latest/pkg_resources.html. The pkg_resources package is slated for removal as early as 2025-11-30. Refrain from using this package or pin to Setuptools<81.\n",
      "  import pkg_resources as pkg\n",
      "D:\\OneDrive - Lowcode Minds Technology Pvt Ltd\\Desktop\\image_classifier_site\\yolov5\\utils\\general.py:32: UserWarning: pkg_resources is deprecated as an API. See https://setuptools.pypa.io/en/latest/pkg_resources.html. The pkg_resources package is slated for removal as early as 2025-11-30. Refrain from using this package or pin to Setuptools<81.\n",
      "  import pkg_resources as pkg\n",
      "D:\\OneDrive - Lowcode Minds Technology Pvt Ltd\\Desktop\\image_classifier_site\\yolov5\\utils\\general.py:32: UserWarning: pkg_resources is deprecated as an API. See https://setuptools.pypa.io/en/latest/pkg_resources.html. The pkg_resources package is slated for removal as early as 2025-11-30. Refrain from using this package or pin to Setuptools<81.\n",
      "  import pkg_resources as pkg\n",
      "\n",
      "\u001b[34m\u001b[1mtrain: \u001b[0mScanning D:\\OneDrive - Lowcode Minds Technology Pvt Ltd\\Desktop\\image_classifier_site\\dataset\\train\\birds... 1 images, 0 backgrounds, 0 corrupt:   0%|          | 1/5310 [00:26<38:36:22, 26.18s/it]\n",
      "\u001b[34m\u001b[1mtrain: \u001b[0mScanning D:\\OneDrive - Lowcode Minds Technology Pvt Ltd\\Desktop\\image_classifier_site\\dataset\\train\\birds... 60 images, 0 backgrounds, 0 corrupt:   1%|          | 60/5310 [00:26<27:00,  3.24it/s] \n",
      "\u001b[34m\u001b[1mtrain: \u001b[0mScanning D:\\OneDrive - Lowcode Minds Technology Pvt Ltd\\Desktop\\image_classifier_site\\dataset\\train\\birds... 128 images, 0 backgrounds, 0 corrupt:   2%|▏         | 128/5310 [00:26<10:13,  8.45it/s]\n",
      "\u001b[34m\u001b[1mtrain: \u001b[0mScanning D:\\OneDrive - Lowcode Minds Technology Pvt Ltd\\Desktop\\image_classifier_site\\dataset\\train\\birds... 203 images, 0 backgrounds, 0 corrupt:   4%|▍         | 203/5310 [00:26<05:09, 16.51it/s]\n",
      "\u001b[34m\u001b[1mtrain: \u001b[0mScanning D:\\OneDrive - Lowcode Minds Technology Pvt Ltd\\Desktop\\image_classifier_site\\dataset\\train\\birds... 285 images, 0 backgrounds, 0 corrupt:   5%|▌         | 285/5310 [00:26<02:55, 28.71it/s]\n",
      "\u001b[34m\u001b[1mtrain: \u001b[0mScanning D:\\OneDrive - Lowcode Minds Technology Pvt Ltd\\Desktop\\image_classifier_site\\dataset\\train\\birds... 354 images, 0 backgrounds, 0 corrupt:   7%|▋         | 354/5310 [00:26<01:55, 42.78it/s]\n",
      "\u001b[34m\u001b[1mtrain: \u001b[0mScanning D:\\OneDrive - Lowcode Minds Technology Pvt Ltd\\Desktop\\image_classifier_site\\dataset\\train\\birds... 431 images, 0 backgrounds, 0 corrupt:   8%|▊         | 431/5310 [00:26<01:15, 64.23it/s]\n",
      "\u001b[34m\u001b[1mtrain: \u001b[0mScanning D:\\OneDrive - Lowcode Minds Technology Pvt Ltd\\Desktop\\image_classifier_site\\dataset\\train\\birds... 516 images, 0 backgrounds, 0 corrupt:  10%|▉         | 516/5310 [00:26<00:49, 95.95it/s]\n",
      "\u001b[34m\u001b[1mtrain: \u001b[0mScanning D:\\OneDrive - Lowcode Minds Technology Pvt Ltd\\Desktop\\image_classifier_site\\dataset\\train\\birds... 591 images, 0 backgrounds, 0 corrupt:  11%|█         | 591/5310 [00:27<00:40, 115.92it/s]\n",
      "\u001b[34m\u001b[1mtrain: \u001b[0mScanning D:\\OneDrive - Lowcode Minds Technology Pvt Ltd\\Desktop\\image_classifier_site\\dataset\\train\\birds... 649 images, 0 backgrounds, 0 corrupt:  12%|█▏        | 649/5310 [00:27<00:32, 142.82it/s]\n",
      "\u001b[34m\u001b[1mtrain: \u001b[0mScanning D:\\OneDrive - Lowcode Minds Technology Pvt Ltd\\Desktop\\image_classifier_site\\dataset\\train\\birds... 703 images, 0 backgrounds, 0 corrupt:  13%|█▎        | 703/5310 [00:27<00:29, 155.87it/s]\n",
      "\u001b[34m\u001b[1mtrain: \u001b[0mScanning D:\\OneDrive - Lowcode Minds Technology Pvt Ltd\\Desktop\\image_classifier_site\\dataset\\train\\birds... 772 images, 0 backgrounds, 0 corrupt:  15%|█▍        | 772/5310 [00:27<00:22, 206.05it/s]\n",
      "\u001b[34m\u001b[1mtrain: \u001b[0mScanning D:\\OneDrive - Lowcode Minds Technology Pvt Ltd\\Desktop\\image_classifier_site\\dataset\\train\\birds... 850 images, 0 backgrounds, 0 corrupt:  16%|█▌        | 850/5310 [00:27<00:16, 274.00it/s]\n",
      "\u001b[34m\u001b[1mtrain: \u001b[0mScanning D:\\OneDrive - Lowcode Minds Technology Pvt Ltd\\Desktop\\image_classifier_site\\dataset\\train\\birds... 928 images, 0 backgrounds, 0 corrupt:  17%|█▋        | 928/5310 [00:27<00:12, 346.91it/s]\n",
      "\u001b[34m\u001b[1mtrain: \u001b[0mScanning D:\\OneDrive - Lowcode Minds Technology Pvt Ltd\\Desktop\\image_classifier_site\\dataset\\train\\birds... 1013 images, 0 backgrounds, 0 corrupt:  19%|█▉        | 1013/5310 [00:28<00:10, 427.86it/s]\n",
      "\u001b[34m\u001b[1mtrain: \u001b[0mScanning D:\\OneDrive - Lowcode Minds Technology Pvt Ltd\\Desktop\\image_classifier_site\\dataset\\train\\birds... 1082 images, 0 backgrounds, 0 corrupt:  20%|██        | 1082/5310 [00:28<00:09, 457.63it/s]\n",
      "\u001b[34m\u001b[1mtrain: \u001b[0mScanning D:\\OneDrive - Lowcode Minds Technology Pvt Ltd\\Desktop\\image_classifier_site\\dataset\\train\\birds... 1147 images, 0 backgrounds, 0 corrupt:  22%|██▏       | 1147/5310 [00:28<00:08, 484.63it/s]\n",
      "\u001b[34m\u001b[1mtrain: \u001b[0mScanning D:\\OneDrive - Lowcode Minds Technology Pvt Ltd\\Desktop\\image_classifier_site\\dataset\\train\\birds... 1212 images, 0 backgrounds, 0 corrupt:  23%|██▎       | 1212/5310 [00:28<00:07, 516.79it/s]\n",
      "\u001b[34m\u001b[1mtrain: \u001b[0mScanning D:\\OneDrive - Lowcode Minds Technology Pvt Ltd\\Desktop\\image_classifier_site\\dataset\\train\\birds... 1283 images, 0 backgrounds, 0 corrupt:  24%|██▍       | 1283/5310 [00:28<00:07, 562.42it/s]\n",
      "\u001b[34m\u001b[1mtrain: \u001b[0mScanning D:\\OneDrive - Lowcode Minds Technology Pvt Ltd\\Desktop\\image_classifier_site\\dataset\\train\\birds... 1360 images, 0 backgrounds, 0 corrupt:  26%|██▌       | 1360/5310 [00:28<00:06, 614.56it/s]\n",
      "\u001b[34m\u001b[1mtrain: \u001b[0mScanning D:\\OneDrive - Lowcode Minds Technology Pvt Ltd\\Desktop\\image_classifier_site\\dataset\\train\\birds... 1441 images, 0 backgrounds, 0 corrupt:  27%|██▋       | 1441/5310 [00:28<00:05, 665.55it/s]\n",
      "\u001b[34m\u001b[1mtrain: \u001b[0mScanning D:\\OneDrive - Lowcode Minds Technology Pvt Ltd\\Desktop\\image_classifier_site\\dataset\\train\\birds... 1530 images, 0 backgrounds, 0 corrupt:  29%|██▉       | 1530/5310 [00:28<00:05, 727.58it/s]\n",
      "\u001b[34m\u001b[1mtrain: \u001b[0mScanning D:\\OneDrive - Lowcode Minds Technology Pvt Ltd\\Desktop\\image_classifier_site\\dataset\\train\\birds... 1622 images, 0 backgrounds, 0 corrupt:  31%|███       | 1622/5310 [00:28<00:04, 776.01it/s]\n",
      "\u001b[34m\u001b[1mtrain: \u001b[0mScanning D:\\OneDrive - Lowcode Minds Technology Pvt Ltd\\Desktop\\image_classifier_site\\dataset\\train\\birds... 1703 images, 0 backgrounds, 0 corrupt:  32%|███▏      | 1703/5310 [00:28<00:04, 784.84it/s]\n",
      "\u001b[34m\u001b[1mtrain: \u001b[0mScanning D:\\OneDrive - Lowcode Minds Technology Pvt Ltd\\Desktop\\image_classifier_site\\dataset\\train\\birds... 1789 images, 0 backgrounds, 0 corrupt:  34%|███▎      | 1789/5310 [00:29<00:04, 799.26it/s]\n",
      "\u001b[34m\u001b[1mtrain: \u001b[0mScanning D:\\OneDrive - Lowcode Minds Technology Pvt Ltd\\Desktop\\image_classifier_site\\dataset\\train\\birds... 1872 images, 0 backgrounds, 0 corrupt:  35%|███▌      | 1872/5310 [00:29<00:04, 798.61it/s]\n",
      "\u001b[34m\u001b[1mtrain: \u001b[0mScanning D:\\OneDrive - Lowcode Minds Technology Pvt Ltd\\Desktop\\image_classifier_site\\dataset\\train\\birds... 1954 images, 0 backgrounds, 0 corrupt:  37%|███▋      | 1954/5310 [00:29<00:04, 804.81it/s]\n",
      "\u001b[34m\u001b[1mtrain: \u001b[0mScanning D:\\OneDrive - Lowcode Minds Technology Pvt Ltd\\Desktop\\image_classifier_site\\dataset\\train\\birds... 2038 images, 0 backgrounds, 0 corrupt:  38%|███▊      | 2038/5310 [00:29<00:04, 808.39it/s]\n",
      "\u001b[34m\u001b[1mtrain: \u001b[0mScanning D:\\OneDrive - Lowcode Minds Technology Pvt Ltd\\Desktop\\image_classifier_site\\dataset\\train\\birds... 2120 images, 0 backgrounds, 0 corrupt:  40%|███▉      | 2120/5310 [00:29<00:03, 806.72it/s]\n",
      "\u001b[34m\u001b[1mtrain: \u001b[0mScanning D:\\OneDrive - Lowcode Minds Technology Pvt Ltd\\Desktop\\image_classifier_site\\dataset\\train\\birds... 2213 images, 0 backgrounds, 0 corrupt:  42%|████▏     | 2213/5310 [00:29<00:03, 834.43it/s]\n",
      "\u001b[34m\u001b[1mtrain: \u001b[0mScanning D:\\OneDrive - Lowcode Minds Technology Pvt Ltd\\Desktop\\image_classifier_site\\dataset\\train\\birds... 2302 images, 0 backgrounds, 0 corrupt:  43%|████▎     | 2302/5310 [00:29<00:03, 841.55it/s]\n",
      "\u001b[34m\u001b[1mtrain: \u001b[0mScanning D:\\OneDrive - Lowcode Minds Technology Pvt Ltd\\Desktop\\image_classifier_site\\dataset\\train\\birds... 2387 images, 0 backgrounds, 0 corrupt:  45%|████▍     | 2387/5310 [00:29<00:04, 652.51it/s]\n",
      "\u001b[34m\u001b[1mtrain: \u001b[0mScanning D:\\OneDrive - Lowcode Minds Technology Pvt Ltd\\Desktop\\image_classifier_site\\dataset\\train\\birds... 2482 images, 0 backgrounds, 0 corrupt:  47%|████▋     | 2482/5310 [00:30<00:03, 725.27it/s]\n",
      "\u001b[34m\u001b[1mtrain: \u001b[0mScanning D:\\OneDrive - Lowcode Minds Technology Pvt Ltd\\Desktop\\image_classifier_site\\dataset\\train\\birds... 2573 images, 0 backgrounds, 0 corrupt:  48%|████▊     | 2573/5310 [00:30<00:03, 765.01it/s]\n",
      "\u001b[34m\u001b[1mtrain: \u001b[0mScanning D:\\OneDrive - Lowcode Minds Technology Pvt Ltd\\Desktop\\image_classifier_site\\dataset\\train\\birds... 2665 images, 0 backgrounds, 0 corrupt:  50%|█████     | 2665/5310 [00:30<00:03, 806.54it/s]\n",
      "\u001b[34m\u001b[1mtrain: \u001b[0mScanning D:\\OneDrive - Lowcode Minds Technology Pvt Ltd\\Desktop\\image_classifier_site\\dataset\\train\\birds... 2758 images, 0 backgrounds, 0 corrupt:  52%|█████▏    | 2758/5310 [00:30<00:03, 833.27it/s]\n",
      "\u001b[34m\u001b[1mtrain: \u001b[0mScanning D:\\OneDrive - Lowcode Minds Technology Pvt Ltd\\Desktop\\image_classifier_site\\dataset\\train\\birds... 2845 images, 0 backgrounds, 0 corrupt:  54%|█████▎    | 2845/5310 [00:30<00:02, 840.09it/s]\n",
      "\u001b[34m\u001b[1mtrain: \u001b[0mScanning D:\\OneDrive - Lowcode Minds Technology Pvt Ltd\\Desktop\\image_classifier_site\\dataset\\train\\birds... 2932 images, 0 backgrounds, 0 corrupt:  55%|█████▌    | 2932/5310 [00:30<00:02, 830.15it/s]\n",
      "\u001b[34m\u001b[1mtrain: \u001b[0mScanning D:\\OneDrive - Lowcode Minds Technology Pvt Ltd\\Desktop\\image_classifier_site\\dataset\\train\\birds... 3017 images, 0 backgrounds, 0 corrupt:  57%|█████▋    | 3017/5310 [00:30<00:02, 804.72it/s]\n",
      "\u001b[34m\u001b[1mtrain: \u001b[0mScanning D:\\OneDrive - Lowcode Minds Technology Pvt Ltd\\Desktop\\image_classifier_site\\dataset\\train\\birds... 3099 images, 0 backgrounds, 0 corrupt:  58%|█████▊    | 3099/5310 [00:30<00:02, 802.82it/s]\n",
      "\u001b[34m\u001b[1mtrain: \u001b[0mScanning D:\\OneDrive - Lowcode Minds Technology Pvt Ltd\\Desktop\\image_classifier_site\\dataset\\train\\birds... 3181 images, 0 backgrounds, 0 corrupt:  60%|█████▉    | 3181/5310 [00:30<00:02, 767.28it/s]\n",
      "\u001b[34m\u001b[1mtrain: \u001b[0mScanning D:\\OneDrive - Lowcode Minds Technology Pvt Ltd\\Desktop\\image_classifier_site\\dataset\\train\\birds... 3260 images, 0 backgrounds, 0 corrupt:  61%|██████▏   | 3260/5310 [00:30<00:02, 773.12it/s]\n",
      "\u001b[34m\u001b[1mtrain: \u001b[0mScanning D:\\OneDrive - Lowcode Minds Technology Pvt Ltd\\Desktop\\image_classifier_site\\dataset\\train\\birds... 3346 images, 0 backgrounds, 0 corrupt:  63%|██████▎   | 3346/5310 [00:31<00:02, 790.20it/s]\n",
      "\u001b[34m\u001b[1mtrain: \u001b[0mScanning D:\\OneDrive - Lowcode Minds Technology Pvt Ltd\\Desktop\\image_classifier_site\\dataset\\train\\birds... 3428 images, 0 backgrounds, 0 corrupt:  65%|██████▍   | 3428/5310 [00:31<00:02, 790.63it/s]\n",
      "\u001b[34m\u001b[1mtrain: \u001b[0mScanning D:\\OneDrive - Lowcode Minds Technology Pvt Ltd\\Desktop\\image_classifier_site\\dataset\\train\\birds... 3514 images, 0 backgrounds, 0 corrupt:  66%|██████▌   | 3514/5310 [00:31<00:02, 807.13it/s]\n",
      "\u001b[34m\u001b[1mtrain: \u001b[0mScanning D:\\OneDrive - Lowcode Minds Technology Pvt Ltd\\Desktop\\image_classifier_site\\dataset\\train\\birds... 3595 images, 0 backgrounds, 0 corrupt:  68%|██████▊   | 3595/5310 [00:31<00:02, 702.46it/s]\n",
      "\u001b[34m\u001b[1mtrain: \u001b[0mScanning D:\\OneDrive - Lowcode Minds Technology Pvt Ltd\\Desktop\\image_classifier_site\\dataset\\train\\birds... 3672 images, 0 backgrounds, 0 corrupt:  69%|██████▉   | 3672/5310 [00:31<00:02, 711.15it/s]\n",
      "\u001b[34m\u001b[1mtrain: \u001b[0mScanning D:\\OneDrive - Lowcode Minds Technology Pvt Ltd\\Desktop\\image_classifier_site\\dataset\\train\\birds... 3752 images, 0 backgrounds, 0 corrupt:  71%|███████   | 3752/5310 [00:31<00:02, 729.49it/s]\n",
      "\u001b[34m\u001b[1mtrain: \u001b[0mScanning D:\\OneDrive - Lowcode Minds Technology Pvt Ltd\\Desktop\\image_classifier_site\\dataset\\train\\birds... 3834 images, 0 backgrounds, 0 corrupt:  72%|███████▏  | 3834/5310 [00:31<00:01, 752.31it/s]\n",
      "\u001b[34m\u001b[1mtrain: \u001b[0mScanning D:\\OneDrive - Lowcode Minds Technology Pvt Ltd\\Desktop\\image_classifier_site\\dataset\\train\\birds... 3918 images, 0 backgrounds, 0 corrupt:  74%|███████▍  | 3918/5310 [00:31<00:01, 762.59it/s]\n",
      "\u001b[34m\u001b[1mtrain: \u001b[0mScanning D:\\OneDrive - Lowcode Minds Technology Pvt Ltd\\Desktop\\image_classifier_site\\dataset\\train\\birds... 4004 images, 0 backgrounds, 0 corrupt:  75%|███████▌  | 4004/5310 [00:31<00:01, 778.46it/s]\n",
      "\u001b[34m\u001b[1mtrain: \u001b[0mScanning D:\\OneDrive - Lowcode Minds Technology Pvt Ltd\\Desktop\\image_classifier_site\\dataset\\train\\birds... 4083 images, 0 backgrounds, 0 corrupt:  77%|███████▋  | 4083/5310 [00:32<00:01, 730.81it/s]\n",
      "\u001b[34m\u001b[1mtrain: \u001b[0mScanning D:\\OneDrive - Lowcode Minds Technology Pvt Ltd\\Desktop\\image_classifier_site\\dataset\\train\\birds... 4157 images, 0 backgrounds, 0 corrupt:  78%|███████▊  | 4157/5310 [00:32<00:01, 684.56it/s]\n",
      "\u001b[34m\u001b[1mtrain: \u001b[0mScanning D:\\OneDrive - Lowcode Minds Technology Pvt Ltd\\Desktop\\image_classifier_site\\dataset\\train\\birds... 4227 images, 0 backgrounds, 0 corrupt:  80%|███████▉  | 4227/5310 [00:32<00:01, 672.12it/s]\n",
      "\u001b[34m\u001b[1mtrain: \u001b[0mScanning D:\\OneDrive - Lowcode Minds Technology Pvt Ltd\\Desktop\\image_classifier_site\\dataset\\train\\birds... 4295 images, 0 backgrounds, 0 corrupt:  81%|████████  | 4295/5310 [00:32<00:01, 655.59it/s]\n",
      "\u001b[34m\u001b[1mtrain: \u001b[0mScanning D:\\OneDrive - Lowcode Minds Technology Pvt Ltd\\Desktop\\image_classifier_site\\dataset\\train\\birds... 4361 images, 0 backgrounds, 0 corrupt:  82%|████████▏ | 4361/5310 [00:32<00:01, 634.60it/s]\n",
      "\u001b[34m\u001b[1mtrain: \u001b[0mScanning D:\\OneDrive - Lowcode Minds Technology Pvt Ltd\\Desktop\\image_classifier_site\\dataset\\train\\birds... 4425 images, 0 backgrounds, 0 corrupt:  83%|████████▎ | 4425/5310 [00:32<00:01, 609.84it/s]\n",
      "\u001b[34m\u001b[1mtrain: \u001b[0mScanning D:\\OneDrive - Lowcode Minds Technology Pvt Ltd\\Desktop\\image_classifier_site\\dataset\\train\\birds... 4487 images, 0 backgrounds, 0 corrupt:  85%|████████▍ | 4487/5310 [00:32<00:01, 570.54it/s]\n",
      "\u001b[34m\u001b[1mtrain: \u001b[0mScanning D:\\OneDrive - Lowcode Minds Technology Pvt Ltd\\Desktop\\image_classifier_site\\dataset\\train\\birds... 4546 images, 0 backgrounds, 0 corrupt:  86%|████████▌ | 4546/5310 [00:32<00:01, 566.79it/s]\n",
      "\u001b[34m\u001b[1mtrain: \u001b[0mScanning D:\\OneDrive - Lowcode Minds Technology Pvt Ltd\\Desktop\\image_classifier_site\\dataset\\train\\birds... 4603 images, 0 backgrounds, 0 corrupt:  87%|████████▋ | 4603/5310 [00:32<00:01, 566.49it/s]\n",
      "\u001b[34m\u001b[1mtrain: \u001b[0mScanning D:\\OneDrive - Lowcode Minds Technology Pvt Ltd\\Desktop\\image_classifier_site\\dataset\\train\\birds... 4662 images, 0 backgrounds, 0 corrupt:  88%|████████▊ | 4662/5310 [00:33<00:01, 569.47it/s]\n",
      "\u001b[34m\u001b[1mtrain: \u001b[0mScanning D:\\OneDrive - Lowcode Minds Technology Pvt Ltd\\Desktop\\image_classifier_site\\dataset\\train\\birds... 4721 images, 0 backgrounds, 0 corrupt:  89%|████████▉ | 4721/5310 [00:33<00:01, 571.18it/s]\n",
      "\u001b[34m\u001b[1mtrain: \u001b[0mScanning D:\\OneDrive - Lowcode Minds Technology Pvt Ltd\\Desktop\\image_classifier_site\\dataset\\train\\birds... 4779 images, 0 backgrounds, 0 corrupt:  90%|█████████ | 4779/5310 [00:33<00:00, 562.16it/s]\n",
      "\u001b[34m\u001b[1mtrain: \u001b[0mScanning D:\\OneDrive - Lowcode Minds Technology Pvt Ltd\\Desktop\\image_classifier_site\\dataset\\train\\birds... 4836 images, 0 backgrounds, 0 corrupt:  91%|█████████ | 4836/5310 [00:33<00:00, 562.53it/s]\n",
      "\u001b[34m\u001b[1mtrain: \u001b[0mScanning D:\\OneDrive - Lowcode Minds Technology Pvt Ltd\\Desktop\\image_classifier_site\\dataset\\train\\birds... 4893 images, 0 backgrounds, 0 corrupt:  92%|█████████▏| 4893/5310 [00:33<00:00, 564.04it/s]\n",
      "\u001b[34m\u001b[1mtrain: \u001b[0mScanning D:\\OneDrive - Lowcode Minds Technology Pvt Ltd\\Desktop\\image_classifier_site\\dataset\\train\\birds... 4950 images, 0 backgrounds, 0 corrupt:  93%|█████████▎| 4950/5310 [00:33<00:00, 517.25it/s]\n",
      "\u001b[34m\u001b[1mtrain: \u001b[0mScanning D:\\OneDrive - Lowcode Minds Technology Pvt Ltd\\Desktop\\image_classifier_site\\dataset\\train\\birds... 5004 images, 0 backgrounds, 0 corrupt:  94%|█████████▍| 5004/5310 [00:33<00:00, 521.37it/s]\n",
      "\u001b[34m\u001b[1mtrain: \u001b[0mScanning D:\\OneDrive - Lowcode Minds Technology Pvt Ltd\\Desktop\\image_classifier_site\\dataset\\train\\birds... 5057 images, 0 backgrounds, 0 corrupt:  95%|█████████▌| 5057/5310 [00:33<00:00, 516.87it/s]\n",
      "\u001b[34m\u001b[1mtrain: \u001b[0mScanning D:\\OneDrive - Lowcode Minds Technology Pvt Ltd\\Desktop\\image_classifier_site\\dataset\\train\\birds... 5112 images, 0 backgrounds, 0 corrupt:  96%|█████████▋| 5112/5310 [00:33<00:00, 521.29it/s]\n",
      "\u001b[34m\u001b[1mtrain: \u001b[0mScanning D:\\OneDrive - Lowcode Minds Technology Pvt Ltd\\Desktop\\image_classifier_site\\dataset\\train\\birds... 5193 images, 0 backgrounds, 0 corrupt:  98%|█████████▊| 5193/5310 [00:34<00:00, 598.10it/s]\n",
      "\u001b[34m\u001b[1mtrain: \u001b[0mScanning D:\\OneDrive - Lowcode Minds Technology Pvt Ltd\\Desktop\\image_classifier_site\\dataset\\train\\birds... 5260 images, 0 backgrounds, 0 corrupt:  99%|█████████▉| 5260/5310 [00:34<00:00, 618.07it/s]\n",
      "\u001b[34m\u001b[1mtrain: \u001b[0mScanning D:\\OneDrive - Lowcode Minds Technology Pvt Ltd\\Desktop\\image_classifier_site\\dataset\\train\\birds... 5310 images, 0 backgrounds, 0 corrupt: 100%|██████████| 5310/5310 [00:34<00:00, 155.05it/s]\n",
      "\u001b[34m\u001b[1mtrain: \u001b[0mNew cache created: D:\\OneDrive - Lowcode Minds Technology Pvt Ltd\\Desktop\\image_classifier_site\\dataset\\train\\birds.cache\n",
      "\n",
      "  0%|          | 0/5310 [00:00<?, ?it/s]\n",
      "\u001b[34m\u001b[1mtrain: \u001b[0mCaching images (0.0GB ram):   1%|          | 32/5310 [00:00<00:22, 232.17it/s]\n",
      "\u001b[34m\u001b[1mtrain: \u001b[0mCaching images (0.1GB ram):   2%|▏         | 110/5310 [00:00<00:10, 501.63it/s]\n",
      "\u001b[34m\u001b[1mtrain: \u001b[0mCaching images (0.1GB ram):   3%|▎         | 164/5310 [00:00<00:17, 293.57it/s]\n",
      "\u001b[34m\u001b[1mtrain: \u001b[0mCaching images (0.2GB ram):   4%|▍         | 232/5310 [00:00<00:15, 317.45it/s]\n",
      "\u001b[34m\u001b[1mtrain: \u001b[0mCaching images (0.3GB ram):   6%|▋         | 334/5310 [00:00<00:11, 431.26it/s]\n",
      "\u001b[34m\u001b[1mtrain: \u001b[0mCaching images (0.3GB ram):   7%|▋         | 395/5310 [00:00<00:10, 448.90it/s]\n",
      "\u001b[34m\u001b[1mtrain: \u001b[0mCaching images (0.4GB ram):   8%|▊         | 445/5310 [00:01<00:15, 318.59it/s]\n",
      "\u001b[34m\u001b[1mtrain: \u001b[0mCaching images (0.4GB ram):  10%|█         | 543/5310 [00:01<00:11, 432.78it/s]\n",
      "\u001b[34m\u001b[1mtrain: \u001b[0mCaching images (0.5GB ram):  11%|█▏        | 598/5310 [00:01<00:10, 438.66it/s]\n",
      "\u001b[34m\u001b[1mtrain: \u001b[0mCaching images (0.5GB ram):  12%|█▏        | 650/5310 [00:01<00:11, 404.04it/s]\n",
      "\u001b[34m\u001b[1mtrain: \u001b[0mCaching images (0.6GB ram):  13%|█▎        | 696/5310 [00:01<00:11, 407.10it/s]\n",
      "\u001b[34m\u001b[1mtrain: \u001b[0mCaching images (0.6GB ram):  14%|█▍        | 741/5310 [00:01<00:11, 409.72it/s]\n",
      "\u001b[34m\u001b[1mtrain: \u001b[0mCaching images (0.6GB ram):  15%|█▍        | 793/5310 [00:01<00:10, 429.83it/s]\n",
      "\u001b[34m\u001b[1mtrain: \u001b[0mCaching images (0.7GB ram):  16%|█▌        | 839/5310 [00:02<00:10, 430.72it/s]\n",
      "\u001b[34m\u001b[1mtrain: \u001b[0mCaching images (0.7GB ram):  17%|█▋        | 884/5310 [00:02<00:10, 422.07it/s]\n",
      "\u001b[34m\u001b[1mtrain: \u001b[0mCaching images (0.8GB ram):  17%|█▋        | 928/5310 [00:02<00:14, 299.91it/s]\n",
      "\u001b[34m\u001b[1mtrain: \u001b[0mCaching images (0.8GB ram):  19%|█▉        | 1009/5310 [00:02<00:10, 402.73it/s]\n",
      "\u001b[34m\u001b[1mtrain: \u001b[0mCaching images (0.9GB ram):  20%|█▉        | 1057/5310 [00:02<00:10, 405.24it/s]\n",
      "\u001b[34m\u001b[1mtrain: \u001b[0mCaching images (0.9GB ram):  21%|██        | 1103/5310 [00:02<00:10, 385.31it/s]\n",
      "\u001b[34m\u001b[1mtrain: \u001b[0mCaching images (0.9GB ram):  22%|██▏       | 1146/5310 [00:02<00:10, 384.81it/s]\n",
      "\u001b[34m\u001b[1mtrain: \u001b[0mCaching images (1.0GB ram):  22%|██▏       | 1191/5310 [00:03<00:10, 392.22it/s]\n",
      "\u001b[34m\u001b[1mtrain: \u001b[0mCaching images (1.0GB ram):  23%|██▎       | 1233/5310 [00:03<00:10, 386.60it/s]\n",
      "\u001b[34m\u001b[1mtrain: \u001b[0mCaching images (1.1GB ram):  24%|██▍       | 1281/5310 [00:03<00:09, 403.98it/s]\n",
      "\u001b[34m\u001b[1mtrain: \u001b[0mCaching images (1.1GB ram):  25%|██▍       | 1323/5310 [00:03<00:10, 395.43it/s]\n",
      "\u001b[34m\u001b[1mtrain: \u001b[0mCaching images (1.1GB ram):  27%|██▋       | 1410/5310 [00:03<00:07, 516.77it/s]\n",
      "\u001b[34m\u001b[1mtrain: \u001b[0mCaching images (1.2GB ram):  28%|██▊       | 1463/5310 [00:03<00:10, 382.31it/s]\n",
      "\u001b[34m\u001b[1mtrain: \u001b[0mCaching images (1.3GB ram):  30%|██▉       | 1571/5310 [00:03<00:07, 490.03it/s]\n",
      "\u001b[34m\u001b[1mtrain: \u001b[0mCaching images (1.3GB ram):  31%|███▏      | 1669/5310 [00:04<00:07, 506.41it/s]\n",
      "\u001b[34m\u001b[1mtrain: \u001b[0mCaching images (1.4GB ram):  32%|███▏      | 1723/5310 [00:04<00:07, 470.10it/s]\n",
      "\u001b[34m\u001b[1mtrain: \u001b[0mCaching images (1.5GB ram):  37%|███▋      | 1940/5310 [00:04<00:04, 836.25it/s]\n",
      "\u001b[34m\u001b[1mtrain: \u001b[0mCaching images (1.6GB ram):  38%|███▊      | 2038/5310 [00:04<00:03, 818.25it/s]\n",
      "\u001b[34m\u001b[1mtrain: \u001b[0mCaching images (1.6GB ram):  40%|████      | 2130/5310 [00:04<00:03, 815.47it/s]\n",
      "\u001b[34m\u001b[1mtrain: \u001b[0mCaching images (1.7GB ram):  43%|████▎     | 2262/5310 [00:04<00:04, 740.76it/s]\n",
      "\u001b[34m\u001b[1mtrain: \u001b[0mCaching images (1.9GB ram):  46%|████▌     | 2433/5310 [00:05<00:05, 535.22it/s]\n",
      "\u001b[34m\u001b[1mtrain: \u001b[0mCaching images (1.9GB ram):  47%|████▋     | 2501/5310 [00:06<00:16, 174.41it/s]\n",
      "\u001b[34m\u001b[1mtrain: \u001b[0mCaching images (2.0GB ram):  50%|█████     | 2663/5310 [00:06<00:10, 262.85it/s]\n",
      "\u001b[34m\u001b[1mtrain: \u001b[0mCaching images (2.1GB ram):  52%|█████▏    | 2740/5310 [00:07<00:09, 274.54it/s]\n",
      "\u001b[34m\u001b[1mtrain: \u001b[0mCaching images (2.2GB ram):  53%|█████▎    | 2813/5310 [00:07<00:08, 285.54it/s]\n",
      "\u001b[34m\u001b[1mtrain: \u001b[0mCaching images (2.2GB ram):  54%|█████▍    | 2877/5310 [00:07<00:08, 279.10it/s]\n",
      "\u001b[34m\u001b[1mtrain: \u001b[0mCaching images (2.2GB ram):  55%|█████▌    | 2923/5310 [00:07<00:08, 267.51it/s]\n",
      "\u001b[34m\u001b[1mtrain: \u001b[0mCaching images (2.3GB ram):  57%|█████▋    | 3012/5310 [00:07<00:07, 321.59it/s]\n",
      "\u001b[34m\u001b[1mtrain: \u001b[0mCaching images (2.4GB ram):  58%|█████▊    | 3074/5310 [00:08<00:06, 361.86it/s]\n",
      "\u001b[34m\u001b[1mtrain: \u001b[0mCaching images (2.4GB ram):  59%|█████▉    | 3122/5310 [00:08<00:07, 310.00it/s]\n",
      "\u001b[34m\u001b[1mtrain: \u001b[0mCaching images (2.4GB ram):  60%|█████▉    | 3179/5310 [00:08<00:07, 281.93it/s]\n",
      "\u001b[34m\u001b[1mtrain: \u001b[0mCaching images (2.5GB ram):  62%|██████▏   | 3297/5310 [00:08<00:04, 414.41it/s]\n",
      "\u001b[34m\u001b[1mtrain: \u001b[0mCaching images (2.6GB ram):  63%|██████▎   | 3352/5310 [00:08<00:05, 334.10it/s]\n",
      "\u001b[34m\u001b[1mtrain: \u001b[0mCaching images (2.6GB ram):  64%|██████▍   | 3406/5310 [00:09<00:06, 287.16it/s]\n",
      "\u001b[34m\u001b[1mtrain: \u001b[0mCaching images (2.7GB ram):  66%|██████▋   | 3525/5310 [00:09<00:04, 376.20it/s]\n",
      "\u001b[34m\u001b[1mtrain: \u001b[0mCaching images (2.7GB ram):  67%|██████▋   | 3575/5310 [00:09<00:04, 383.81it/s]\n",
      "\u001b[34m\u001b[1mtrain: \u001b[0mCaching images (2.8GB ram):  68%|██████▊   | 3636/5310 [00:09<00:04, 354.14it/s]\n",
      "\u001b[34m\u001b[1mtrain: \u001b[0mCaching images (2.8GB ram):  69%|██████▉   | 3676/5310 [00:09<00:05, 311.12it/s]\n",
      "\u001b[34m\u001b[1mtrain: \u001b[0mCaching images (2.8GB ram):  70%|██████▉   | 3710/5310 [00:10<00:05, 298.14it/s]\n",
      "\u001b[34m\u001b[1mtrain: \u001b[0mCaching images (3.0GB ram):  73%|███████▎  | 3882/5310 [00:10<00:02, 574.91it/s]\n",
      "\u001b[34m\u001b[1mtrain: \u001b[0mCaching images (3.0GB ram):  74%|███████▍  | 3955/5310 [00:10<00:02, 602.20it/s]\n",
      "\u001b[34m\u001b[1mtrain: \u001b[0mCaching images (3.2GB ram):  77%|███████▋  | 4092/5310 [00:10<00:01, 766.30it/s]\n",
      "\u001b[34m\u001b[1mtrain: \u001b[0mCaching images (3.4GB ram):  80%|███████▉  | 4240/5310 [00:10<00:01, 919.23it/s]\n",
      "\u001b[34m\u001b[1mtrain: \u001b[0mCaching images (3.5GB ram):  82%|████████▏ | 4342/5310 [00:10<00:01, 806.92it/s]\n",
      "\u001b[34m\u001b[1mtrain: \u001b[0mCaching images (3.5GB ram):  83%|████████▎ | 4432/5310 [00:10<00:01, 599.18it/s]\n",
      "\u001b[34m\u001b[1mtrain: \u001b[0mCaching images (3.6GB ram):  85%|████████▍ | 4506/5310 [00:11<00:01, 489.57it/s]\n",
      "\u001b[34m\u001b[1mtrain: \u001b[0mCaching images (3.7GB ram):  86%|████████▌ | 4567/5310 [00:11<00:01, 427.18it/s]\n",
      "\u001b[34m\u001b[1mtrain: \u001b[0mCaching images (3.7GB ram):  87%|████████▋ | 4618/5310 [00:11<00:01, 388.47it/s]\n",
      "\u001b[34m\u001b[1mtrain: \u001b[0mCaching images (3.7GB ram):  88%|████████▊ | 4663/5310 [00:11<00:01, 369.09it/s]\n",
      "\u001b[34m\u001b[1mtrain: \u001b[0mCaching images (3.8GB ram):  89%|████████▊ | 4704/5310 [00:11<00:01, 353.40it/s]\n",
      "\u001b[34m\u001b[1mtrain: \u001b[0mCaching images (3.8GB ram):  89%|████████▉ | 4742/5310 [00:11<00:01, 334.81it/s]\n",
      "\u001b[34m\u001b[1mtrain: \u001b[0mCaching images (3.8GB ram):  90%|████████▉ | 4777/5310 [00:12<00:01, 326.18it/s]\n",
      "\u001b[34m\u001b[1mtrain: \u001b[0mCaching images (3.9GB ram):  91%|█████████ | 4811/5310 [00:12<00:01, 301.23it/s]\n",
      "\u001b[34m\u001b[1mtrain: \u001b[0mCaching images (3.9GB ram):  91%|█████████ | 4843/5310 [00:12<00:01, 299.88it/s]\n",
      "\u001b[34m\u001b[1mtrain: \u001b[0mCaching images (3.9GB ram):  92%|█████████▏| 4880/5310 [00:12<00:01, 309.88it/s]\n",
      "\u001b[34m\u001b[1mtrain: \u001b[0mCaching images (4.0GB ram):  93%|█████████▎| 4915/5310 [00:12<00:01, 309.42it/s]\n",
      "\u001b[34m\u001b[1mtrain: \u001b[0mCaching images (4.0GB ram):  93%|█████████▎| 4952/5310 [00:12<00:01, 316.45it/s]\n",
      "\u001b[34m\u001b[1mtrain: \u001b[0mCaching images (4.0GB ram):  94%|█████████▍| 4984/5310 [00:12<00:01, 294.01it/s]\n",
      "\u001b[34m\u001b[1mtrain: \u001b[0mCaching images (4.0GB ram):  95%|█████████▍| 5021/5310 [00:12<00:00, 311.19it/s]\n",
      "\u001b[34m\u001b[1mtrain: \u001b[0mCaching images (4.1GB ram):  95%|█████████▌| 5053/5310 [00:12<00:00, 293.01it/s]\n",
      "\u001b[34m\u001b[1mtrain: \u001b[0mCaching images (4.1GB ram):  96%|█████████▌| 5084/5310 [00:13<00:00, 289.00it/s]\n",
      "\u001b[34m\u001b[1mtrain: \u001b[0mCaching images (4.1GB ram):  96%|█████████▋| 5118/5310 [00:13<00:00, 296.85it/s]\n",
      "\u001b[34m\u001b[1mtrain: \u001b[0mCaching images (4.2GB ram):  97%|█████████▋| 5148/5310 [00:13<00:00, 297.66it/s]\n",
      "\u001b[34m\u001b[1mtrain: \u001b[0mCaching images (4.2GB ram):  98%|█████████▊| 5178/5310 [00:13<00:00, 286.80it/s]\n",
      "\u001b[34m\u001b[1mtrain: \u001b[0mCaching images (4.2GB ram):  98%|█████████▊| 5214/5310 [00:13<00:00, 297.51it/s]\n",
      "\u001b[34m\u001b[1mtrain: \u001b[0mCaching images (4.2GB ram):  99%|█████████▉| 5247/5310 [00:13<00:00, 304.25it/s]\n",
      "\u001b[34m\u001b[1mtrain: \u001b[0mCaching images (4.3GB ram):  99%|█████████▉| 5278/5310 [00:13<00:00, 300.88it/s]\n",
      "\u001b[34m\u001b[1mtrain: \u001b[0mCaching images (4.3GB ram): 100%|█████████▉| 5309/5310 [00:13<00:00, 298.21it/s]\n",
      "\u001b[34m\u001b[1mtrain: \u001b[0mCaching images (4.3GB ram): 100%|██████████| 5310/5310 [00:13<00:00, 383.23it/s]\n",
      "D:\\OneDrive - Lowcode Minds Technology Pvt Ltd\\Desktop\\image_classifier_site\\yolov5\\utils\\general.py:32: UserWarning: pkg_resources is deprecated as an API. See https://setuptools.pypa.io/en/latest/pkg_resources.html. The pkg_resources package is slated for removal as early as 2025-11-30. Refrain from using this package or pin to Setuptools<81.\n",
      "  import pkg_resources as pkg\n",
      "D:\\OneDrive - Lowcode Minds Technology Pvt Ltd\\Desktop\\image_classifier_site\\yolov5\\utils\\general.py:32: UserWarning: pkg_resources is deprecated as an API. See https://setuptools.pypa.io/en/latest/pkg_resources.html. The pkg_resources package is slated for removal as early as 2025-11-30. Refrain from using this package or pin to Setuptools<81.\n",
      "  import pkg_resources as pkg\n",
      "D:\\OneDrive - Lowcode Minds Technology Pvt Ltd\\Desktop\\image_classifier_site\\yolov5\\utils\\general.py:32: UserWarning: pkg_resources is deprecated as an API. See https://setuptools.pypa.io/en/latest/pkg_resources.html. The pkg_resources package is slated for removal as early as 2025-11-30. Refrain from using this package or pin to Setuptools<81.\n",
      "  import pkg_resources as pkg\n",
      "Traceback (most recent call last):\n",
      "  File \"D:\\OneDrive - Lowcode Minds Technology Pvt Ltd\\Desktop\\image_classifier_site\\yolov5\\train.py\", line 986, in <module>\n",
      "    main(opt)\n",
      "  File \"D:\\OneDrive - Lowcode Minds Technology Pvt Ltd\\Desktop\\image_classifier_site\\yolov5\\train.py\", line 688, in main\n",
      "    train(opt.hyp, opt, device, callbacks)\n",
      "  File \"D:\\OneDrive - Lowcode Minds Technology Pvt Ltd\\Desktop\\image_classifier_site\\yolov5\\train.py\", line 285, in train\n",
      "    train_loader, dataset = create_dataloader(\n",
      "                            ^^^^^^^^^^^^^^^^^^\n",
      "  File \"D:\\OneDrive - Lowcode Minds Technology Pvt Ltd\\Desktop\\image_classifier_site\\yolov5\\utils\\dataloaders.py\", line 207, in create_dataloader\n",
      "    return loader(\n",
      "           ^^^^^^^\n",
      "  File \"D:\\OneDrive - Lowcode Minds Technology Pvt Ltd\\Desktop\\image_classifier_site\\yolov5\\utils\\dataloaders.py\", line 234, in __init__\n",
      "    self.iterator = super().__iter__()\n",
      "                    ^^^^^^^^^^^^^^^^^^\n",
      "  File \"d:\\OneDrive - Lowcode Minds Technology Pvt Ltd\\Desktop\\image_classifier_site\\venv\\Lib\\site-packages\\torch\\utils\\data\\dataloader.py\", line 493, in __iter__\n",
      "    return self._get_iterator()\n",
      "           ^^^^^^^^^^^^^^^^^^^^\n",
      "  File \"d:\\OneDrive - Lowcode Minds Technology Pvt Ltd\\Desktop\\image_classifier_site\\venv\\Lib\\site-packages\\torch\\utils\\data\\dataloader.py\", line 424, in _get_iterator\n",
      "    return _MultiProcessingDataLoaderIter(self)\n",
      "           ^^^^^^^^^^^^^^^^^^^^^^^^^^^^^^^^^^^^\n",
      "  File \"d:\\OneDrive - Lowcode Minds Technology Pvt Ltd\\Desktop\\image_classifier_site\\venv\\Lib\\site-packages\\torch\\utils\\data\\dataloader.py\", line 1171, in __init__\n",
      "    w.start()\n",
      "  File \"C:\\Users\\KawishaNilmani\\AppData\\Local\\Programs\\Python\\Python311\\Lib\\multiprocessing\\process.py\", line 121, in start\n",
      "    self._popen = self._Popen(self)\n",
      "                  ^^^^^^^^^^^^^^^^^\n",
      "  File \"C:\\Users\\KawishaNilmani\\AppData\\Local\\Programs\\Python\\Python311\\Lib\\multiprocessing\\context.py\", line 224, in _Popen\n",
      "    return _default_context.get_context().Process._Popen(process_obj)\n",
      "           ^^^^^^^^^^^^^^^^^^^^^^^^^^^^^^^^^^^^^^^^^^^^^^^^^^^^^^^^^^\n",
      "  File \"C:\\Users\\KawishaNilmani\\AppData\\Local\\Programs\\Python\\Python311\\Lib\\multiprocessing\\context.py\", line 336, in _Popen\n",
      "    return Popen(process_obj)\n",
      "           ^^^^^^^^^^^^^^^^^^\n",
      "  File \"C:\\Users\\KawishaNilmani\\AppData\\Local\\Programs\\Python\\Python311\\Lib\\multiprocessing\\popen_spawn_win32.py\", line 94, in __init__\n",
      "    reduction.dump(process_obj, to_child)\n",
      "  File \"C:\\Users\\KawishaNilmani\\AppData\\Local\\Programs\\Python\\Python311\\Lib\\multiprocessing\\reduction.py\", line 60, in dump\n",
      "    ForkingPickler(file, protocol).dump(obj)\n",
      "MemoryError\n",
      "Traceback (most recent call last):\n",
      "  File \"<string>\", line 1, in <module>\n",
      "  File \"C:\\Users\\KawishaNilmani\\AppData\\Local\\Programs\\Python\\Python311\\Lib\\multiprocessing\\spawn.py\", line 120, in spawn_main\n",
      "    exitcode = _main(fd, parent_sentinel)\n",
      "               ^^^^^^^^^^^^^^^^^^^^^^^^^^\n",
      "  File \"C:\\Users\\KawishaNilmani\\AppData\\Local\\Programs\\Python\\Python311\\Lib\\multiprocessing\\spawn.py\", line 130, in _main\n",
      "    self = reduction.pickle.load(from_parent)\n",
      "           ^^^^^^^^^^^^^^^^^^^^^^^^^^^^^^^^^^\n",
      "EOFError: Ran out of input\n"
     ]
    }
   ],
   "source": [
    "!python train.py --img 640 --batch 16 --epochs 1 --data \"D:/OneDrive - Lowcode Minds Technology Pvt Ltd/Desktop/image_classifier_site/dataset/dataset.yaml\" --weights yolov5s.pt --cache --single-cls\n"
   ]
  },
  {
   "cell_type": "code",
   "execution_count": 49,
   "id": "7c4989e3",
   "metadata": {},
   "outputs": [
    {
     "name": "stdout",
     "output_type": "stream",
     "text": [
      "The tensorboard extension is already loaded. To reload it, use:\n",
      "  %reload_ext tensorboard\n"
     ]
    },
    {
     "data": {
      "text/plain": [
       "Reusing TensorBoard on port 6007 (pid 12552), started 4:04:53 ago. (Use '!kill 12552' to kill it.)"
      ]
     },
     "metadata": {},
     "output_type": "display_data"
    },
    {
     "data": {
      "text/html": [
       "\n",
       "      <iframe id=\"tensorboard-frame-5ba7498dfe7e9364\" width=\"100%\" height=\"800\" frameborder=\"0\">\n",
       "      </iframe>\n",
       "      <script>\n",
       "        (function() {\n",
       "          const frame = document.getElementById(\"tensorboard-frame-5ba7498dfe7e9364\");\n",
       "          const url = new URL(\"http://localhost\");\n",
       "          const port = 6007;\n",
       "          if (port) {\n",
       "            url.port = port;\n",
       "          }\n",
       "          frame.src = url;\n",
       "        })();\n",
       "      </script>\n",
       "    "
      ],
      "text/plain": [
       "<IPython.core.display.HTML object>"
      ]
     },
     "metadata": {},
     "output_type": "display_data"
    }
   ],
   "source": [
    "# Start tensorboard\n",
    "# Launch after you have started training\n",
    "# logs save in the folder \"runs\"\n",
    "%load_ext tensorboard\n",
    "%tensorboard --logdir runs"
   ]
  },
  {
   "cell_type": "code",
   "execution_count": 50,
   "id": "bb8897f2",
   "metadata": {},
   "outputs": [],
   "source": [
    "%reload_ext tensorboard"
   ]
  },
  {
   "cell_type": "code",
   "execution_count": 51,
   "id": "91c4c83d",
   "metadata": {},
   "outputs": [
    {
     "name": "stdout",
     "output_type": "stream",
     "text": [
      "Working directory: D:\\OneDrive - Lowcode Minds Technology Pvt Ltd\\Desktop\\image_classifier_site\\yolov5\n"
     ]
    }
   ],
   "source": [
    "import os\n",
    "print(\"Working directory:\", os.getcwd())"
   ]
  },
  {
   "cell_type": "code",
   "execution_count": 52,
   "id": "7759e9bc",
   "metadata": {},
   "outputs": [],
   "source": [
    "os.chdir(\"D:/OneDrive - Lowcode Minds Technology Pvt Ltd/Desktop/image_classifier_site/yolov5\")"
   ]
  },
  {
   "cell_type": "code",
   "execution_count": 34,
   "id": "575c5972",
   "metadata": {},
   "outputs": [
    {
     "name": "stderr",
     "output_type": "stream",
     "text": [
      "D:\\OneDrive - Lowcode Minds Technology Pvt Ltd\\Desktop\\image_classifier_site\\yolov5\\utils\\general.py:32: UserWarning: pkg_resources is deprecated as an API. See https://setuptools.pypa.io/en/latest/pkg_resources.html. The pkg_resources package is slated for removal as early as 2025-11-30. Refrain from using this package or pin to Setuptools<81.\n",
      "  import pkg_resources as pkg\n",
      "\u001b[34m\u001b[1mdetect: \u001b[0mweights=['runs/train/exp/weights/best.pt'], source={dataset.location}/val/images, data=data\\coco128.yaml, imgsz=[640, 640], conf_thres=0.1, iou_thres=0.45, max_det=1000, device=, view_img=False, save_txt=False, save_format=0, save_csv=False, save_conf=False, save_crop=False, nosave=False, classes=None, agnostic_nms=False, augment=False, visualize=False, update=False, project=runs\\detect, name=exp, exist_ok=False, line_thickness=3, hide_labels=False, hide_conf=False, half=False, dnn=False, vid_stride=1\n",
      "fatal: cannot change to 'D:\\OneDrive': No such file or directory\n",
      "YOLOv5  2025-6-25 Python-3.11.0 torch-2.7.1+cpu CPU\n",
      "\n",
      "Traceback (most recent call last):\n",
      "  File \"D:\\OneDrive - Lowcode Minds Technology Pvt Ltd\\Desktop\\image_classifier_site\\yolov5\\detect.py\", line 438, in <module>\n",
      "    main(opt)\n",
      "  File \"D:\\OneDrive - Lowcode Minds Technology Pvt Ltd\\Desktop\\image_classifier_site\\yolov5\\detect.py\", line 433, in main\n",
      "    run(**vars(opt))\n",
      "  File \"d:\\OneDrive - Lowcode Minds Technology Pvt Ltd\\Desktop\\image_classifier_site\\venv\\Lib\\site-packages\\torch\\utils\\_contextlib.py\", line 116, in decorate_context\n",
      "    return func(*args, **kwargs)\n",
      "           ^^^^^^^^^^^^^^^^^^^^^\n",
      "  File \"D:\\OneDrive - Lowcode Minds Technology Pvt Ltd\\Desktop\\image_classifier_site\\yolov5\\detect.py\", line 166, in run\n",
      "    model = DetectMultiBackend(weights, device=device, dnn=dnn, data=data, fp16=half)\n",
      "            ^^^^^^^^^^^^^^^^^^^^^^^^^^^^^^^^^^^^^^^^^^^^^^^^^^^^^^^^^^^^^^^^^^^^^^^^^\n",
      "  File \"D:\\OneDrive - Lowcode Minds Technology Pvt Ltd\\Desktop\\image_classifier_site\\yolov5\\models\\common.py\", line 489, in __init__\n",
      "    model = attempt_load(weights if isinstance(weights, list) else w, device=device, inplace=True, fuse=fuse)\n",
      "            ^^^^^^^^^^^^^^^^^^^^^^^^^^^^^^^^^^^^^^^^^^^^^^^^^^^^^^^^^^^^^^^^^^^^^^^^^^^^^^^^^^^^^^^^^^^^^^^^^\n",
      "  File \"D:\\OneDrive - Lowcode Minds Technology Pvt Ltd\\Desktop\\image_classifier_site\\yolov5\\models\\experimental.py\", line 98, in attempt_load\n",
      "    ckpt = torch.load(attempt_download(w), map_location=\"cpu\")  # load\n",
      "           ^^^^^^^^^^^^^^^^^^^^^^^^^^^^^^^^^^^^^^^^^^^^^^^^^^^\n",
      "  File \"d:\\OneDrive - Lowcode Minds Technology Pvt Ltd\\Desktop\\image_classifier_site\\venv\\Lib\\site-packages\\ultralytics\\utils\\patches.py\", line 119, in torch_load\n",
      "    return _torch_load(*args, **kwargs)\n",
      "           ^^^^^^^^^^^^^^^^^^^^^^^^^^^^\n",
      "  File \"d:\\OneDrive - Lowcode Minds Technology Pvt Ltd\\Desktop\\image_classifier_site\\venv\\Lib\\site-packages\\torch\\serialization.py\", line 1479, in load\n",
      "    with _open_file_like(f, \"rb\") as opened_file:\n",
      "         ^^^^^^^^^^^^^^^^^^^^^^^^\n",
      "  File \"d:\\OneDrive - Lowcode Minds Technology Pvt Ltd\\Desktop\\image_classifier_site\\venv\\Lib\\site-packages\\torch\\serialization.py\", line 759, in _open_file_like\n",
      "    return _open_file(name_or_buffer, mode)\n",
      "           ^^^^^^^^^^^^^^^^^^^^^^^^^^^^^^^^\n",
      "  File \"d:\\OneDrive - Lowcode Minds Technology Pvt Ltd\\Desktop\\image_classifier_site\\venv\\Lib\\site-packages\\torch\\serialization.py\", line 740, in __init__\n",
      "    super().__init__(open(name, mode))\n",
      "                     ^^^^^^^^^^^^^^^^\n",
      "FileNotFoundError: [Errno 2] No such file or directory: 'runs\\\\train\\\\exp\\\\weights\\\\best.pt'\n"
     ]
    }
   ],
   "source": [
    "!python detect.py --weights runs/train/exp/weights/best.pt --img 640 --conf 0.1 --source {dataset.location}/val/images"
   ]
  },
  {
   "cell_type": "code",
   "execution_count": 25,
   "id": "3e2cb4d6",
   "metadata": {},
   "outputs": [],
   "source": [
    "#display inference on ALL test images\n",
    "\n",
    "import glob\n",
    "from IPython.display import Image, display\n",
    "\n",
    "for imageName in glob.glob('yolov5/runs/detect/exp/*.jpg'): #assuming JPG\n",
    "    display(Image(filename=imageName))\n",
    "    print(\"\\n\")"
   ]
  },
  {
   "cell_type": "code",
   "execution_count": 28,
   "id": "d634dca9",
   "metadata": {},
   "outputs": [
    {
     "name": "stdout",
     "output_type": "stream",
     "text": [
      "❌ Model not found at: ./runs/train/exp/weights/best.pt\n"
     ]
    }
   ],
   "source": [
    "model_path = './runs/train/exp/weights/best.pt'\n",
    "\n",
    "import os\n",
    "if os.path.exists(model_path):\n",
    "    print(\"✅ Model found at:\", model_path)\n",
    "else:\n",
    "    print(\"❌ Model not found at:\", model_path)\n"
   ]
  },
  {
   "cell_type": "code",
   "execution_count": null,
   "id": "e2221622",
   "metadata": {},
   "outputs": [],
   "source": []
  }
 ],
 "metadata": {
  "kernelspec": {
   "display_name": "venv",
   "language": "python",
   "name": "python3"
  },
  "language_info": {
   "codemirror_mode": {
    "name": "ipython",
    "version": 3
   },
   "file_extension": ".py",
   "mimetype": "text/x-python",
   "name": "python",
   "nbconvert_exporter": "python",
   "pygments_lexer": "ipython3",
   "version": "3.11.0"
  }
 },
 "nbformat": 4,
 "nbformat_minor": 5
}
